{
 "cells": [
  {
   "cell_type": "markdown",
   "metadata": {},
   "source": [
    "## PANDAS 연습 - EDA"
   ]
  },
  {
   "cell_type": "code",
   "execution_count": 191,
   "metadata": {},
   "outputs": [],
   "source": [
    "import pandas as pd\n",
    "import matplotlib.pyplot as plt\n",
    "from scipy.interpolate import make_interp_spline, BSpline\n",
    "\n",
    "df = pd.read_csv(\"C:/Users/sohee/Downloads/archive (1)/Mall_Customers.csv\")"
   ]
  },
  {
   "cell_type": "code",
   "execution_count": 22,
   "metadata": {},
   "outputs": [
    {
     "name": "stdout",
     "output_type": "stream",
     "text": [
      "\n",
      "\n",
      "   CustomerID  Gender  Age  Annual Income (k$)  Spending Score (1-100)\n",
      "0           1    Male   19                  15                      39\n",
      "1           2    Male   21                  15                      81\n",
      "2           3  Female   20                  16                       6\n",
      "\n",
      "-------------------------------------------------\n",
      "\n",
      "<class 'pandas.core.frame.DataFrame'>\n",
      "RangeIndex: 200 entries, 0 to 199\n",
      "Data columns (total 5 columns):\n",
      " #   Column                  Non-Null Count  Dtype \n",
      "---  ------                  --------------  ----- \n",
      " 0   CustomerID              200 non-null    int64 \n",
      " 1   Gender                  200 non-null    object\n",
      " 2   Age                     200 non-null    int64 \n",
      " 3   Annual Income (k$)      200 non-null    int64 \n",
      " 4   Spending Score (1-100)  200 non-null    int64 \n",
      "dtypes: int64(4), object(1)\n",
      "memory usage: 7.9+ KB\n",
      "None\n",
      "\n",
      "-------------------------------------------------\n",
      "\n",
      "       CustomerID         Age  Annual Income (k$)  Spending Score (1-100)\n",
      "count  200.000000  200.000000          200.000000              200.000000\n",
      "mean   100.500000   38.850000           60.560000               50.200000\n",
      "std     57.879185   13.969007           26.264721               25.823522\n",
      "min      1.000000   18.000000           15.000000                1.000000\n",
      "25%     50.750000   28.750000           41.500000               34.750000\n",
      "50%    100.500000   36.000000           61.500000               50.000000\n",
      "75%    150.250000   49.000000           78.000000               73.000000\n",
      "max    200.000000   70.000000          137.000000               99.000000\n"
     ]
    }
   ],
   "source": [
    "# 데이터셋 확인\n",
    "\n",
    "print('\\n')\n",
    "print(df.head(3))\n",
    "print(\"\\n-------------------------------------------------\\n\")\n",
    "print(df.info())\n",
    "print(\"\\n-------------------------------------------------\\n\")\n",
    "print(df.describe())"
   ]
  },
  {
   "cell_type": "markdown",
   "metadata": {},
   "source": [
    "## 시각화"
   ]
  },
  {
   "cell_type": "markdown",
   "metadata": {},
   "source": [
    "**핵심 코드**\n",
    "\n",
    "array to list 👉🏻 .tolist()"
   ]
  },
  {
   "cell_type": "code",
   "execution_count": 105,
   "metadata": {},
   "outputs": [],
   "source": [
    "# Matplotlib 한글 깨짐 해결 - 출처 : https://velog.io/@seonj102/jupyter-notebook-%EA%B7%B8%EB%9E%98%ED%94%84-%ED%95%9C%EA%B8%80-%ED%8F%B0%ED%8A%B8-%EC%84%A4%EC%A0%95\n",
    "\n",
    "# 파이썬 시각화 패키지 불러오기\n",
    "import matplotlib.pyplot as plt\n",
    "%matplotlib inline\n",
    "\n",
    "\n",
    "# 사용자 운영체제 확인\n",
    "import platform\n",
    "platform.system()\n",
    "\n",
    "# 운영체제별 한글 폰트 설정\n",
    "if platform.system() == 'Darwin': # Mac 환경 폰트 설정\n",
    "    plt.rc('font', family='AppleGothic')\n",
    "elif platform.system() == 'Windows': # Windows 환경 폰트 설정\n",
    "    plt.rc('font', family='Malgun Gothic')\n",
    "\n",
    "plt.rc('axes', unicode_minus=False) # 마이너스 폰트 설정"
   ]
  },
  {
   "cell_type": "markdown",
   "metadata": {},
   "source": [
    "### 성별 분포\n",
    "\n",
    "해석: 여성보다 남성 구매 데이터가 더 많다."
   ]
  },
  {
   "cell_type": "code",
   "execution_count": 106,
   "metadata": {},
   "outputs": [
    {
     "data": {
      "image/png": "[encoded data removed]",
      "text/plain": [
       "<Figure size 432x288 with 1 Axes>"
      ]
     },
     "metadata": {},
     "output_type": "display_data"
    }
   ],
   "source": [
    "# 성별 분포\n",
    "\n",
    "target = df['Gender']\n",
    "\n",
    "\n",
    "ratio = [target.value_counts()['Female'], target.value_counts()['Male']]\n",
    "labels = target.unique().tolist()\n",
    "\n",
    "explode = [0.05, 0.05]\n",
    "colors = ['gold', 'lightgray']\n",
    "wedgeprops={'width': 0.7, 'edgecolor': 'w', 'linewidth': 2}\n",
    "\n",
    "plt.pie(ratio, labels=labels, explode=explode, \n",
    "        shadow=True, colors=colors, startangle=260, autopct='%.f',\n",
    "        wedgeprops=wedgeprops);\n",
    "plt.title(\"성비 분포\");"
   ]
  },
  {
   "cell_type": "markdown",
   "metadata": {},
   "source": [
    "### 성별에 따른 연령 분포\n"
   ]
  },
  {
   "cell_type": "code",
   "execution_count": 264,
   "metadata": {},
   "outputs": [
    {
     "name": "stdout",
     "output_type": "stream",
     "text": [
      "            CustomerID  Annual Income (k$)  Spending Score (1-100)  Ages\n",
      "Gender Age                                                              \n",
      "Female 18            1                   1                       1     1\n",
      "       19            2                   2                       2     2\n",
      "       20            2                   2                       2     2\n",
      "       21            4                   4                       4     4\n",
      "       22            2                   2                       2     2\n",
      "...                ...                 ...                     ...   ...\n",
      "Male   66            1                   1                       1     1\n",
      "       67            3                   3                       3     3\n",
      "       68            1                   1                       1     1\n",
      "       69            1                   1                       1     1\n",
      "       70            2                   2                       2     2\n",
      "\n",
      "[87 rows x 4 columns]\n",
      "\n",
      "----------------------------------\n",
      "\n"
     ]
    },
    {
     "data": {
      "image/png": "[encoded data removed]",
      "text/plain": [
       "<Figure size 432x288 with 1 Axes>"
      ]
     },
     "metadata": {
      "needs_background": "light"
     },
     "output_type": "display_data"
    }
   ],
   "source": [
    "print(df.groupby([df['Gender'],df['Age']]).count())\n",
    "\n",
    "print('\\n----------------------------------\\n')\n",
    "\n",
    "\n",
    "def MakeDF(target, color):\n",
    "    tg_df = pd.DataFrame(df[df['Gender']==target]['Age'].value_counts()).sort_index()\n",
    "    x_labels = tg_df.index\n",
    "    y_labels = tg_df['Age']\n",
    "    plt.plot(x_labels, y_labels, label=target, color=color, alpha=0.9, marker='.')\n",
    "\n",
    "\n",
    "font = {'color': '#191919',\n",
    "       'size': 15,\n",
    "       'weight': 'bold'}\n",
    "\n",
    "MakeDF('Male', '#BDBDBD')\n",
    "MakeDF('Female', '#FFE400')\n",
    "\n",
    "\n",
    "plt.xlabel('나이', labelpad=15, fontdict=font, loc='center')\n",
    "plt.ylabel('개수', labelpad=15, fontdict=font)\n",
    "plt.legend(ncol=1, fontsize=13, shadow=True)\n",
    "plt.axis([17, 71, 0, 8]) # X, Y축의 범위: [xmin, xmax, ymin, ymax\n",
    "\n",
    "plt.show()"
   ]
  },
  {
   "cell_type": "markdown",
   "metadata": {},
   "source": [
    "### 연령이 다양하게 분포하므로, 연령대로 범주화"
   ]
  },
  {
   "cell_type": "markdown",
   "metadata": {},
   "source": [
    "**핵심 코드**\n",
    "\n",
    "소수점 내림 👉🏻 math.floor(x)\n",
    "\n",
    "소수점 올림 👉🏻 math.ceil(x)"
   ]
  },
  {
   "cell_type": "code",
   "execution_count": 267,
   "metadata": {},
   "outputs": [
    {
     "data": {
      "text/plain": [
       "0    10\n",
       "1    20\n",
       "2    20\n",
       "Name: Ages, dtype: int64"
      ]
     },
     "execution_count": 267,
     "metadata": {},
     "output_type": "execute_result"
    }
   ],
   "source": [
    "import math\n",
    "\n",
    "df['Ages'] = df['Age'].apply(lambda x: math.floor(x*0.1)*10)\n",
    "\n",
    "df.Ages.head(3)"
   ]
  }
 ],
 "metadata": {
  "kernelspec": {
   "display_name": "Python 3",
   "language": "python",
   "name": "python3"
  },
  "language_info": {
   "codemirror_mode": {
    "name": "ipython",
    "version": 3
   },
   "file_extension": ".py",
   "mimetype": "text/x-python",
   "name": "python",
   "nbconvert_exporter": "python",
   "pygments_lexer": "ipython3",
   "version": "3.8.5"
  }
 },
 "nbformat": 4,
 "nbformat_minor": 4
}
